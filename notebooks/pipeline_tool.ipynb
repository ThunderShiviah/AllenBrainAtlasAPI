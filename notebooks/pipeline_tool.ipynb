{
 "metadata": {
  "name": "",
  "signature": "sha256:39fec5f1674b18da12bb91fe7b4b508aa6bee976f7905ff4590290dbb3ce0243"
 },
 "nbformat": 3,
 "nbformat_minor": 0,
 "worksheets": [
  {
   "cells": [
    {
     "cell_type": "markdown",
     "metadata": {},
     "source": [
      "Goal: To make a pipeline tool for use in my registration script."
     ]
    },
    {
     "cell_type": "markdown",
     "metadata": {},
     "source": [
      "Possible solutions:\n",
      "* https://mathieularose.com/function-composition-in-python/\n",
      "* http://engineering.stylight.com/pipes-and-filters-architectures-with-python-generators/\n",
      "* http://blog.onideas.ws/stream.py\n",
      "* http://dev-tricks.net/pipe-infix-syntax-for-python"
     ]
    },
    {
     "cell_type": "markdown",
     "metadata": {},
     "source": [
      "For the time being, I think I'll go with the stylight link since it provdes the nice form of\n",
      "\n",
      "pipe[func1, func2, ...] with no external dependencies.\n",
      "\n",
      "One thing I'm a little worried about is that this solution uses functions like filter that might be depreciated in python3. I should consult python3's guide to [functional programming](https://docs.python.org/3/howto/functional.html)."
     ]
    },
    {
     "cell_type": "markdown",
     "metadata": {},
     "source": [
      "### Building the pipeline\n",
      "\n",
      "Stylight is using generators to make pipeline steps"
     ]
    },
    {
     "cell_type": "code",
     "collapsed": false,
     "input": [
      "def processing_step(items):\n",
      "    \"\"\"Example of a processing step.\"\"\"\n",
      " \n",
      "    # This section of code is run before the current step\n",
      "    # starts processing.\n",
      " \n",
      "    for item in items:\n",
      "        # Your processing goes here.\n",
      "        yield item\n",
      " \n",
      "    # this section of code is run after all items have\n",
      "    # been processed by this step."
     ],
     "language": "python",
     "metadata": {},
     "outputs": [],
     "prompt_number": 1
    },
    {
     "cell_type": "markdown",
     "metadata": {},
     "source": [
      "Also, there's some code for grouping, filtering, and buffering data but I don't need that at the moment.\n"
     ]
    },
    {
     "cell_type": "code",
     "collapsed": false,
     "input": [
      "def combine_pipeline(source, pipeline):\n",
      "    \"\"\"Combine source and pipeline and return a generator.\n",
      " \n",
      "    This is basically the same as the following function:\n",
      " \n",
      "    >>> def combine_pipeline_explicit(source, pipeline):\n",
      "    ...     gen = source\n",
      "    ...     for step in pipeline:\n",
      "    ...         gen = step(gen)\n",
      "    ...     return gen\n",
      " \n",
      "    \"\"\"\n",
      "    return reduce(lambda x, y: y(x), pipeline, source) ## This might be depreciated in python3. "
     ],
     "language": "python",
     "metadata": {},
     "outputs": [],
     "prompt_number": 2
    },
    {
     "cell_type": "markdown",
     "metadata": {},
     "source": [
      "##### Key point: \"Please note that, since we use generators here, the pipeline can only be run once. To reset the pipeline, just call combine_pipeline again.\""
     ]
    },
    {
     "cell_type": "code",
     "collapsed": false,
     "input": [
      "def consume(iter):\n",
      "    \"\"\"Consume an iterator, trowing away the results.\n",
      " \n",
      "    You may use this if you want to trigger some code in a\n",
      "    generator but don't want to actually know the result because\n",
      "    everything happens as a \"side-effect\" of the generator running.\n",
      " \n",
      "    There are better ones, but this one is simple to explain.\n",
      "    Read the itertools recipe section for a more performant\n",
      "    implementation of this.\n",
      "    \"\"\"\n",
      "    for _ in iter:\n",
      "        pass"
     ],
     "language": "python",
     "metadata": {},
     "outputs": [],
     "prompt_number": 3
    },
    {
     "cell_type": "code",
     "collapsed": false,
     "input": [
      "## Example usage\n",
      "\n",
      "pipeline_steps = [\n",
      "    parse_xml,\n",
      "    download_images,\n",
      "    chunk(32),        # This one combines images into\n",
      "                      # chunks of 32 and passes these\n",
      "                      # on to `save_database`. This is\n",
      "                      # useful to reduce the accumulation\n",
      "                      # of latency-costs of the db-access.\n",
      "    save_to_database\n",
      "]\n",
      " \n",
      "source = open(\"feed.xml\", \"r\")\n",
      "pipeline = combine_pipeline(source, pipeline_steps)\n",
      "consume(pipeline)\n",
      "# You may also iterate yourself over the pipeline, e.g.:\n",
      "#\n",
      "# for entry in pipline:\n",
      "#     print entry\n",
      "#"
     ],
     "language": "python",
     "metadata": {},
     "outputs": [
      {
       "ename": "NameError",
       "evalue": "name 'parse_xml' is not defined",
       "output_type": "pyerr",
       "traceback": [
        "\u001b[0;31m---------------------------------------------------------------------------\u001b[0m\n\u001b[0;31mNameError\u001b[0m                                 Traceback (most recent call last)",
        "\u001b[0;32m<ipython-input-4-61fe5d8d509a>\u001b[0m in \u001b[0;36m<module>\u001b[0;34m()\u001b[0m\n\u001b[1;32m      2\u001b[0m \u001b[0;34m\u001b[0m\u001b[0m\n\u001b[1;32m      3\u001b[0m pipeline_steps = [\n\u001b[0;32m----> 4\u001b[0;31m     \u001b[0mparse_xml\u001b[0m\u001b[0;34m,\u001b[0m\u001b[0;34m\u001b[0m\u001b[0m\n\u001b[0m\u001b[1;32m      5\u001b[0m     \u001b[0mdownload_images\u001b[0m\u001b[0;34m,\u001b[0m\u001b[0;34m\u001b[0m\u001b[0m\n\u001b[1;32m      6\u001b[0m     \u001b[0mchunk\u001b[0m\u001b[0;34m(\u001b[0m\u001b[0;36m32\u001b[0m\u001b[0;34m)\u001b[0m\u001b[0;34m,\u001b[0m        \u001b[0;31m# This one combines images into\u001b[0m\u001b[0;34m\u001b[0m\u001b[0m\n",
        "\u001b[0;31mNameError\u001b[0m: name 'parse_xml' is not defined"
       ]
      }
     ],
     "prompt_number": 4
    },
    {
     "cell_type": "markdown",
     "metadata": {},
     "source": [
      "### Building the pipeline v.2\n",
      "\n",
      "I've decided to instead go with the solution found [here](https://mathieularose.com/function-composition-in-python/) since scikit-image [supports direct function composition](http://scikit-image.org/docs/dev/user_guide/data_types.html).\n",
      "\n"
     ]
    },
    {
     "cell_type": "code",
     "collapsed": false,
     "input": [
      "from functools import reduce\n",
      "\n",
      "\"\"\" Provides a method for composing functions together to create a pipeline.\n",
      "\"\"\"\n",
      "\n",
      "def pipeline(*functions):      # I'm worried that this function name might lead to a collision in the namespace with scikit learn.\n",
      "    return reduce(lambda f, g: lambda x: f(g(x)), functions)"
     ],
     "language": "python",
     "metadata": {},
     "outputs": [],
     "prompt_number": 5
    },
    {
     "cell_type": "markdown",
     "metadata": {},
     "source": [
      "Note: \"The reason why implementations get complex is because they support multiple-argument functions. But there is no need to do so, because any function can be transformed to a one-argument function using higher-order functions such as functools.partial, decorators or our own functions.\"\n",
      "\n",
      "I think the above quote is another strong reason for having my wrapper functions and pre-initialized parameters.\n",
      "\n",
      "In regards to the above issue, I'm running into the problem where this solution doesn't work if my function needs to take in both src and dst for example. In the other implementation (stylight) he used generators which can just iterate no problem. \n",
      "\n",
      "I'll have to think about a solution to this more next time."
     ]
    },
    {
     "cell_type": "code",
     "collapsed": false,
     "input": [
      "\"\"\"In this version of pipeline, I've switched the order of evaluation of g and f so that functions are evaluated left to right.\n",
      "\"\"\"\n",
      "\n",
      "def pipeline(*functions):      # I'm worried that this function name might lead to a collision in the namespace with scikit learn.\n",
      "    return reduce(lambda f, g: lambda x: g(f(x)), functions)\n",
      "\n",
      "def test1(x):\n",
      "    print('a')\n",
      "    \n",
      "def test2(x):\n",
      "    print('b')\n",
      "    \n",
      "def test3(x):\n",
      "    print('c')\n",
      "\n",
      "pipe = pipeline(test1,test2, test3)\n",
      "pipe(1)"
     ],
     "language": "python",
     "metadata": {},
     "outputs": [
      {
       "output_type": "stream",
       "stream": "stdout",
       "text": [
        "a\n",
        "b\n",
        "c\n"
       ]
      }
     ],
     "prompt_number": 11
    },
    {
     "cell_type": "code",
     "collapsed": false,
     "input": [],
     "language": "python",
     "metadata": {},
     "outputs": []
    }
   ],
   "metadata": {}
  }
 ]
}