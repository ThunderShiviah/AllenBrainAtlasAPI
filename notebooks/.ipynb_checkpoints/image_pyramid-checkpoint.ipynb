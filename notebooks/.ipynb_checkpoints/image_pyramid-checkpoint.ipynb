{
 "metadata": {
  "name": "",
  "signature": "sha256:91689b3df65985ae944d5f6869600c4eba176ea24e2a91f9e8915f693a42d66a"
 },
 "nbformat": 3,
 "nbformat_minor": 0,
 "worksheets": [
  {
   "cells": [
    {
     "cell_type": "markdown",
     "metadata": {},
     "source": [
      "# Goal\n",
      "Build an image pyramid to reduce computation time and cost.\n",
      "\n",
      "# Background\n",
      "See [this wiki page](https://en.wikipedia.org/wiki/Image_segmentation) for background.\n",
      "\n",
      "I'm trying to apply an [elliptical hough transform](http://scikit-image.org/docs/dev/auto_examples/plot_circular_elliptical_hough_transform.html#example-plot-circular-elliptical-hough-transform-py) to my lab images but it's taking forever. In order to fix this I can try downsampling the image first. What I want to do is construct a method that produces an [image pyramid](https://en.wikipedia.org/wiki/Pyramid_%28image_processing%29).\n",
      "\n",
      "Some resources:\n",
      "* [OpenCV (computer vision)](http://opencv-python-tutroals.readthedocs.org/en/latest/py_tutorials/py_imgproc/py_pyramids/py_pyramids.html)\n",
      "* [Scikit image](http://scikit-image.org/docs/dev/auto_examples/plot_pyramid.html)"
     ]
    },
    {
     "cell_type": "code",
     "collapsed": false,
     "input": [
      "%matplotlib inline"
     ],
     "language": "python",
     "metadata": {},
     "outputs": []
    },
    {
     "cell_type": "code",
     "collapsed": false,
     "input": [
      "import numpy as np\n",
      "import matplotlib.pyplot as plt\n",
      "\n",
      "from skimage import data\n",
      "from skimage.transform import pyramid_gaussian"
     ],
     "language": "python",
     "metadata": {},
     "outputs": []
    },
    {
     "cell_type": "code",
     "collapsed": false,
     "input": [
      "image = data.astronaut()\n",
      "rows, cols, dim = image.shape\n",
      "pyramid = tuple(pyramid_gaussian(image, downscale=2))\n",
      "\n",
      "composite_image = np.zeros((rows, cols + cols / 2, 3), dtype=np.double)\n",
      "\n",
      "composite_image[:rows, :cols, :] = pyramid[0]\n",
      "\n"
     ],
     "language": "python",
     "metadata": {},
     "outputs": []
    },
    {
     "cell_type": "code",
     "collapsed": false,
     "input": [
      "i_row = 0\n",
      "for p in pyramid[1:]:\n",
      "    n_rows, n_cols = p.shape[:2]\n",
      "    composite_image[i_row:i_row + n_rows, cols:cols + n_cols] = p\n",
      "    i_row += n_rows\n",
      "\n",
      "fig, ax = plt.subplots()\n",
      "ax.imshow(composite_image)\n",
      "#plt.show()"
     ],
     "language": "python",
     "metadata": {},
     "outputs": []
    },
    {
     "cell_type": "code",
     "collapsed": false,
     "input": [],
     "language": "python",
     "metadata": {},
     "outputs": []
    }
   ],
   "metadata": {}
  }
 ]
}