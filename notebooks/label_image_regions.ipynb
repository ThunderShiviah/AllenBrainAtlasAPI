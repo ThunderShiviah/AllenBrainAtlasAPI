{
 "metadata": {
  "name": "",
  "signature": "sha256:4903880be677f30beb06ee045a232388831c5805932bdcb5548d0aff5cce9390"
 },
 "nbformat": 3,
 "nbformat_minor": 0,
 "worksheets": [
  {
   "cells": [
    {
     "cell_type": "code",
     "collapsed": false,
     "input": [
      "import numpy as np\n",
      "import matplotlib.pyplot as plt\n",
      "import matplotlib.patches as mpatches\n",
      "\n",
      "from skimage import data, io\n",
      "from skimage.filters import threshold_otsu\n",
      "from skimage.segmentation import clear_border\n",
      "from skimage.measure import label\n",
      "from skimage.morphology import closing, square\n",
      "from skimage.measure import regionprops\n",
      "from skimage.color import label2rgb\n",
      "\n",
      "\n",
      "image = io.imread('../data/img/downsampled.jpg')\n",
      "\n",
      "\n",
      "# apply threshold\n",
      "thresh = threshold_otsu(image)\n",
      "bw = closing(image > thresh, square(3))\n",
      "\n",
      "# remove artifacts connected to image border\n",
      "cleared = bw.copy()\n",
      "clear_border(cleared)\n",
      "\n",
      "# label image regions\n",
      "label_image = label(cleared)\n",
      "borders = np.logical_xor(bw, cleared)\n",
      "label_image[borders] = -1\n",
      "image_label_overlay = label2rgb(label_image, image=image)\n",
      "\n",
      "fig, ax = plt.subplots(ncols=1, nrows=1, figsize=(6, 6))\n",
      "ax.imshow(image_label_overlay)\n",
      "\n",
      "for region in regionprops(label_image):\n",
      "\n",
      "    # skip small images\n",
      "    if region.area < 100:\n",
      "        continue\n",
      "\n",
      "    # draw rectangle around segmented coins\n",
      "    minr, minc, maxr, maxc = region.bbox\n",
      "    rect = mpatches.Rectangle((minc, minr), maxc - minc, maxr - minr,\n",
      "                              fill=False, edgecolor='red', linewidth=2)\n",
      "    ax.add_patch(rect)\n",
      "\n",
      "plt.show()"
     ],
     "language": "python",
     "metadata": {},
     "outputs": [
      {
       "ename": "IndexError",
       "evalue": "tuple index out of range",
       "output_type": "pyerr",
       "traceback": [
        "\u001b[1;31m---------------------------------------------------------------------------\u001b[0m\n\u001b[1;31mIndexError\u001b[0m                                Traceback (most recent call last)",
        "\u001b[1;32m<ipython-input-3-81ee78e935dc>\u001b[0m in \u001b[0;36m<module>\u001b[1;34m()\u001b[0m\n\u001b[0;32m     17\u001b[0m \u001b[1;31m# apply threshold\u001b[0m\u001b[1;33m\u001b[0m\u001b[1;33m\u001b[0m\u001b[0m\n\u001b[0;32m     18\u001b[0m \u001b[0mthresh\u001b[0m \u001b[1;33m=\u001b[0m \u001b[0mthreshold_otsu\u001b[0m\u001b[1;33m(\u001b[0m\u001b[0mimage\u001b[0m\u001b[1;33m)\u001b[0m\u001b[1;33m\u001b[0m\u001b[0m\n\u001b[1;32m---> 19\u001b[1;33m \u001b[0mbw\u001b[0m \u001b[1;33m=\u001b[0m \u001b[0mclosing\u001b[0m\u001b[1;33m(\u001b[0m\u001b[0mimage\u001b[0m \u001b[1;33m>\u001b[0m \u001b[0mthresh\u001b[0m\u001b[1;33m,\u001b[0m \u001b[0msquare\u001b[0m\u001b[1;33m(\u001b[0m\u001b[1;36m3\u001b[0m\u001b[1;33m)\u001b[0m\u001b[1;33m)\u001b[0m\u001b[1;33m\u001b[0m\u001b[0m\n\u001b[0m\u001b[0;32m     20\u001b[0m \u001b[1;33m\u001b[0m\u001b[0m\n\u001b[0;32m     21\u001b[0m \u001b[1;31m# remove artifacts connected to image border\u001b[0m\u001b[1;33m\u001b[0m\u001b[1;33m\u001b[0m\u001b[0m\n",
        "\u001b[1;32m/usr/local/lib/python2.7/dist-packages/scikit_image-0.11dev-py2.7-linux-x86_64.egg/skimage/morphology/misc.pyc\u001b[0m in \u001b[0;36mfunc_out\u001b[1;34m(image, selem, out, **kwargs)\u001b[0m\n\u001b[0;32m     44\u001b[0m             \u001b[0mfunction\u001b[0m \u001b[1;33m=\u001b[0m \u001b[0mgetattr\u001b[0m\u001b[1;33m(\u001b[0m\u001b[0mnd\u001b[0m\u001b[1;33m,\u001b[0m \u001b[0mskimage2ndimage\u001b[0m\u001b[1;33m[\u001b[0m\u001b[0mfunc\u001b[0m\u001b[1;33m.\u001b[0m\u001b[0m__name__\u001b[0m\u001b[1;33m]\u001b[0m\u001b[1;33m)\u001b[0m\u001b[1;33m\u001b[0m\u001b[0m\n\u001b[0;32m     45\u001b[0m             \u001b[1;32mtry\u001b[0m\u001b[1;33m:\u001b[0m\u001b[1;33m\u001b[0m\u001b[0m\n\u001b[1;32m---> 46\u001b[1;33m                 \u001b[1;32mreturn\u001b[0m \u001b[0mfunction\u001b[0m\u001b[1;33m(\u001b[0m\u001b[0mimage\u001b[0m\u001b[1;33m,\u001b[0m \u001b[0mfootprint\u001b[0m\u001b[1;33m=\u001b[0m\u001b[0mselem\u001b[0m\u001b[1;33m,\u001b[0m \u001b[0moutput\u001b[0m\u001b[1;33m=\u001b[0m\u001b[0mout\u001b[0m\u001b[1;33m,\u001b[0m \u001b[1;33m**\u001b[0m\u001b[0mkwargs\u001b[0m\u001b[1;33m)\u001b[0m\u001b[1;33m\u001b[0m\u001b[0m\n\u001b[0m\u001b[0;32m     47\u001b[0m             \u001b[1;32mexcept\u001b[0m \u001b[0mTypeError\u001b[0m\u001b[1;33m:\u001b[0m\u001b[1;33m\u001b[0m\u001b[0m\n\u001b[0;32m     48\u001b[0m                 \u001b[1;31m# nd.binary_* take structure instead of footprint\u001b[0m\u001b[1;33m\u001b[0m\u001b[1;33m\u001b[0m\u001b[0m\n",
        "\u001b[1;32m/usr/lib/python2.7/dist-packages/scipy/ndimage/morphology.pyc\u001b[0m in \u001b[0;36mgrey_closing\u001b[1;34m(input, size, footprint, structure, output, mode, cval, origin)\u001b[0m\n\u001b[0;32m   1622\u001b[0m     \"\"\"\n\u001b[0;32m   1623\u001b[0m     tmp = grey_dilation(input, size, footprint, structure, None, mode,\n\u001b[1;32m-> 1624\u001b[1;33m                         cval, origin)\n\u001b[0m\u001b[0;32m   1625\u001b[0m     return grey_erosion(tmp, size, footprint, structure, output, mode,\n\u001b[0;32m   1626\u001b[0m                         cval, origin)\n",
        "\u001b[1;32m/usr/lib/python2.7/dist-packages/scipy/ndimage/morphology.pyc\u001b[0m in \u001b[0;36mgrey_dilation\u001b[1;34m(input, size, footprint, structure, output, mode, cval, origin)\u001b[0m\n\u001b[0;32m   1424\u001b[0m         \u001b[0morigin\u001b[0m\u001b[1;33m[\u001b[0m\u001b[0mii\u001b[0m\u001b[1;33m]\u001b[0m \u001b[1;33m=\u001b[0m \u001b[1;33m-\u001b[0m\u001b[0morigin\u001b[0m\u001b[1;33m[\u001b[0m\u001b[0mii\u001b[0m\u001b[1;33m]\u001b[0m\u001b[1;33m\u001b[0m\u001b[0m\n\u001b[0;32m   1425\u001b[0m         \u001b[1;32mif\u001b[0m \u001b[0mfootprint\u001b[0m \u001b[1;32mis\u001b[0m \u001b[1;32mnot\u001b[0m \u001b[0mNone\u001b[0m\u001b[1;33m:\u001b[0m\u001b[1;33m\u001b[0m\u001b[0m\n\u001b[1;32m-> 1426\u001b[1;33m             \u001b[0msz\u001b[0m \u001b[1;33m=\u001b[0m \u001b[0mfootprint\u001b[0m\u001b[1;33m.\u001b[0m\u001b[0mshape\u001b[0m\u001b[1;33m[\u001b[0m\u001b[0mii\u001b[0m\u001b[1;33m]\u001b[0m\u001b[1;33m\u001b[0m\u001b[0m\n\u001b[0m\u001b[0;32m   1427\u001b[0m         \u001b[1;32melif\u001b[0m \u001b[0mstructure\u001b[0m \u001b[1;32mis\u001b[0m \u001b[1;32mnot\u001b[0m \u001b[0mNone\u001b[0m\u001b[1;33m:\u001b[0m\u001b[1;33m\u001b[0m\u001b[0m\n\u001b[0;32m   1428\u001b[0m             \u001b[0msz\u001b[0m \u001b[1;33m=\u001b[0m \u001b[0mstructure\u001b[0m\u001b[1;33m.\u001b[0m\u001b[0mshape\u001b[0m\u001b[1;33m[\u001b[0m\u001b[0mii\u001b[0m\u001b[1;33m]\u001b[0m\u001b[1;33m\u001b[0m\u001b[0m\n",
        "\u001b[1;31mIndexError\u001b[0m: tuple index out of range"
       ]
      }
     ],
     "prompt_number": 3
    },
    {
     "cell_type": "code",
     "collapsed": false,
     "input": [],
     "language": "python",
     "metadata": {},
     "outputs": []
    }
   ],
   "metadata": {}
  }
 ]
}