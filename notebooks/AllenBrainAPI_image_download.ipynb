{
 "metadata": {
  "name": "",
  "signature": "sha256:dd85f8dc9c4dd23600fa6c51ae1bbe1140be17f9bd0077e72107fb8a33069f29"
 },
 "nbformat": 3,
 "nbformat_minor": 0,
 "worksheets": [
  {
   "cells": [
    {
     "cell_type": "heading",
     "level": 1,
     "metadata": {},
     "source": [
      "Introduction"
     ]
    },
    {
     "cell_type": "markdown",
     "metadata": {},
     "source": [
      "My goal is to make a python library for programmatically accessing features of the Allen Brain Institute API ([website](http://help.brain-map.org//display/api/Downloading+an+Image)).\n",
      "\n",
      "I will follow a RESTful style if possible. See [this website](http://rest.elkstein.org/2008/02/what-is-rest.html) for more details on REST.\n",
      "\n",
      "\n"
     ]
    },
    {
     "cell_type": "heading",
     "level": 1,
     "metadata": {},
     "source": [
      "Implementing AtlasImage Download Service"
     ]
    },
    {
     "cell_type": "markdown",
     "metadata": {},
     "source": [
      "[URL](http://help.brain-map.org//display/api/Downloading+an+Image)\n",
      "\n",
      "From the website: \n",
      "The AtlasImage download service serves whole and partial two-dimensional images with annotations presented on the Allen Brain Atlas Web site.\n",
      "\n",
      "Our prototype call is of the form\n",
      "\n",
      "http://api.brain-map.org/api/v2/atlas_image_download/[AtlasImage.id]?downsample=[#]&quality=[#]&annotation=[true|false]&atlas=[#]\n",
      "\n",
      "Calling the API via the above URL returns a jpeg image.\n",
      "\n",
      "We have the following parameters:\n"
     ]
    },
    {
     "cell_type": "markdown",
     "metadata": {},
     "source": [
      "<h3><a name=\"DownloadinganImage-Parameters\"></a>Parameters</h3>\n",
      "\n",
      "<div class='table-wrap'>\n",
      "<table class='confluenceTable'><tbody>\n",
      "<tr>\n",
      "<td class='confluenceTd'> filename </td>\n",
      "<td class='confluenceTd'> Integer </td>\n",
      "<td class='confluenceTd'> AtlasImage.id identifying the image to download. </td>\n",
      "</tr>\n",
      "<tr>\n",
      "<td class='confluenceTd'> annotation </td>\n",
      "<td class='confluenceTd'> Boolean (optional) </td>\n",
      "<td class='confluenceTd'> Set the value to true to retrieve the specified AtlasImage with annotations. </td>\n",
      "</tr>\n",
      "<tr>\n",
      "<td class='confluenceTd'> atlas </td>\n",
      "<td class='confluenceTd'> Integer (optional) </td>\n",
      "<td class='confluenceTd'> Specify the desired Atlas.ID for the annotations. The P56 Adult Mouse Brain Atlas and Developing Mouse Brain Atlas share a common AtlasDataSet, so the Atlas.ID should be specified.&nbsp; </td>\n",
      "</tr>\n",
      "<tr>\n",
      "<td class='confluenceTd'> downsample </td>\n",
      "<td class='confluenceTd'> Integer (optional) </td>\n",
      "<td class='confluenceTd'> The number of times to downsample the original image. For example, 'downsample=1' halves the number of pixels of the original image both horizontally and vertically. Specifying 'downsample=2' quarters the height and width values. </td>\n",
      "</tr>\n",
      "<tr>\n",
      "<td class='confluenceTd'> quality </td>\n",
      "<td class='confluenceTd'> Integer (optional) </td>\n",
      "<td class='confluenceTd'> The jpeg quality of the returned image. This must be an integer from 0, for the lowest quality, up to as high as 100. If it is not specified, it defaults to the highest quality. </td>\n",
      "</tr>\n",
      "<tr>\n",
      "<td class='confluenceTd'> left </td>\n",
      "<td class='confluenceTd'> Integer (optional) </td>\n",
      "<td class='confluenceTd'> Index of the leftmost column of the region of interest, specified in full-resolution (largest tier) pixel coordinates. SectionImage.x is the default value. </td>\n",
      "</tr>\n",
      "<tr>\n",
      "<td class='confluenceTd'> top </td>\n",
      "<td class='confluenceTd'> Integer (optional) </td>\n",
      "<td class='confluenceTd'> Index of the topmost row of the region of interest, specified in full-resolution (largest tier) pixel coordinates. SectionImage.y is the default value. </td>\n",
      "</tr>\n",
      "<tr>\n",
      "<td class='confluenceTd'> width </td>\n",
      "<td class='confluenceTd'> Integer (optional) </td>\n",
      "<td class='confluenceTd'> Number of columns in the output image, specified in tier-resolution (desired tier) pixel coordinates. SectionImage.width is the default value. It is automatically adjusted when downsampled. </td>\n",
      "</tr>\n",
      "<tr>\n",
      "<td class='confluenceTd'> height </td>\n",
      "<td class='confluenceTd'> Integer (optional) </td>\n",
      "<td class='confluenceTd'> Number of rows in the output image, specified in tier-resolution (desired tier) pixel coordinates. SectionImage.height is the default value. It is automatically adjusted when downsampled. </td>\n",
      "</tr>\n",
      "</tbody></table>\n",
      "</div>\n"
     ]
    },
    {
     "cell_type": "markdown",
     "metadata": {},
     "source": [
      "#Make a Request\n",
      "To make a call to the Allen API I'll use the python library 'Requests' (http://docs.python-requests.org/en/latest/index.html).\n",
      "\n",
      "Note: for the first part of these notes where I'm going through the various ways to use the requests library, I'll be pretty much copy and pasting parts from the [Requests quickstart page](http://docs.python-requests.org/en/latest/user/quickstart/).\n",
      "\n",
      "I'll start by trying to download the downsampled AtlasImage 100883869 with annotations which has the url \n",
      "\n",
      "http://api.brain-map.org/api/v2/atlas_image_download/100883869?downsample=4&annotation=true  \n",
      "\n",
      "\n",
      "Let's first import requests."
     ]
    },
    {
     "cell_type": "code",
     "collapsed": false,
     "input": [
      "import requests"
     ],
     "language": "python",
     "metadata": {},
     "outputs": [],
     "prompt_number": 1
    },
    {
     "cell_type": "markdown",
     "metadata": {},
     "source": [
      "Let's try and get the completed image download URL."
     ]
    },
    {
     "cell_type": "code",
     "collapsed": false,
     "input": [
      "r = requests.get('http://api.brain-map.org/api/v2/atlas_image_download/100883869?downsample=4&annotation=true')"
     ],
     "language": "python",
     "metadata": {},
     "outputs": [],
     "prompt_number": 2
    },
    {
     "cell_type": "markdown",
     "metadata": {},
     "source": [
      "Now we have a Response object called r.\n"
     ]
    },
    {
     "cell_type": "code",
     "collapsed": false,
     "input": [
      "r"
     ],
     "language": "python",
     "metadata": {},
     "outputs": [
      {
       "metadata": {},
       "output_type": "pyout",
       "prompt_number": 17,
       "text": [
        "<Response [200]>"
       ]
      }
     ],
     "prompt_number": 17
    },
    {
     "cell_type": "markdown",
     "metadata": {},
     "source": [
      "#Passing Parameters In URLs\n",
      "We want a way to choose our id, so we use % to substitute elements of our dict into the string:"
     ]
    },
    {
     "cell_type": "code",
     "collapsed": false,
     "input": [
      "print 'http://api.brain-map.org/api/v2/atlas_image_download/%(AtlasImage.id)d?downsample=4&annotation=true' % {\"AtlasImage.id\":100883869} "
     ],
     "language": "python",
     "metadata": {},
     "outputs": [
      {
       "output_type": "stream",
       "stream": "stdout",
       "text": [
        "http://api.brain-map.org/api/v2/atlas_image_download/100883869?downsample=4&annotation=true\n"
       ]
      }
     ],
     "prompt_number": 4
    },
    {
     "cell_type": "markdown",
     "metadata": {},
     "source": [
      "Requests also gives us a way to do this by specifying what to put after the ? in the URL."
     ]
    },
    {
     "cell_type": "code",
     "collapsed": false,
     "input": [
      "payload = {'downsample':4,'annotation':'true'}"
     ],
     "language": "python",
     "metadata": {},
     "outputs": [],
     "prompt_number": 5
    },
    {
     "cell_type": "code",
     "collapsed": false,
     "input": [
      "r = requests.get(\"http://api.brain-map.org/api/v2/atlas_image_download/100883869\", params=payload)"
     ],
     "language": "python",
     "metadata": {},
     "outputs": [],
     "prompt_number": 6
    },
    {
     "cell_type": "code",
     "collapsed": false,
     "input": [
      "print(r.url)"
     ],
     "language": "python",
     "metadata": {},
     "outputs": [
      {
       "output_type": "stream",
       "stream": "stdout",
       "text": [
        "http://api.brain-map.org/cgi-bin/imageservice?mime=1&path=/external/0350/prod34/0205081399/0205081399_devmouse_rendered.aff&left=3008&top=30592&width=969&height=489&downsample=4\n"
       ]
      }
     ],
     "prompt_number": 7
    },
    {
     "cell_type": "markdown",
     "metadata": {},
     "source": [
      "which gives us a correct URL to download the image from the Allen API."
     ]
    },
    {
     "cell_type": "markdown",
     "metadata": {},
     "source": [
      "Let's try to put this together and clean it up:"
     ]
    },
    {
     "cell_type": "code",
     "collapsed": false,
     "input": [
      "url = 'http://api.brain-map.org/api/v2/atlas_image_download/%(AtlasImage.id)d?downsample=4&annotation=true' % {\"AtlasImage.id\":100883869} \n",
      "\n",
      "payload = {'downsample':4,'annotation':'true'}\n",
      "\n",
      "r = requests.get(url, params=payload)\n",
      "\n",
      "print(r.url)"
     ],
     "language": "python",
     "metadata": {},
     "outputs": [
      {
       "output_type": "stream",
       "stream": "stdout",
       "text": [
        "http://api.brain-map.org/cgi-bin/imageservice?mime=1&path=/external/0350/prod34/0205081399/0205081399_devmouse_rendered.aff&left=3008&top=30592&width=969&height=489&downsample=4\n"
       ]
      }
     ],
     "prompt_number": 8
    },
    {
     "cell_type": "markdown",
     "metadata": {},
     "source": [
      "TODO: The above code is a little better but what I would really like to do is create an object 'AtlasImage' and give it the attributes of id, downsample, annotation, and anything else. Probably the way to this is by constructing a new-style class (see [this site](https://stackoverflow.com/questions/61517/python-dictionary-from-an-objects-fields) also [this](http://goodcode.io/blog/python-dict-object/))\n"
     ]
    },
    {
     "cell_type": "markdown",
     "metadata": {},
     "source": [
      "#Response Content\n",
      "\n",
      "We can read the content of the server's response.\n"
     ]
    },
    {
     "cell_type": "code",
     "collapsed": false,
     "input": [
      "r.__dict__.keys()\n"
     ],
     "language": "python",
     "metadata": {},
     "outputs": [
      {
       "metadata": {},
       "output_type": "pyout",
       "prompt_number": 9,
       "text": [
        "['cookies',\n",
        " '_content',\n",
        " 'headers',\n",
        " 'url',\n",
        " 'status_code',\n",
        " '_content_consumed',\n",
        " 'encoding',\n",
        " 'request',\n",
        " 'connection',\n",
        " 'elapsed',\n",
        " 'raw',\n",
        " 'reason',\n",
        " 'history']"
       ]
      }
     ],
     "prompt_number": 9
    },
    {
     "cell_type": "markdown",
     "metadata": {},
     "source": [
      "If we want to be able to be able to work with the jpg instead of just downloading it, we will need to decode it. If we look at the raw contents of r we get a lot of junk for the `_contents` section (because of the jpeg gzip encoding) and then some useful stuff at the bottom (scroll all the way down)."
     ]
    },
    {
     "cell_type": "code",
     "collapsed": false,
     "input": [
      "#r.__dict__"
     ],
     "language": "python",
     "metadata": {},
     "outputs": [],
     "prompt_number": 10
    },
    {
     "cell_type": "markdown",
     "metadata": {},
     "source": [
      "Requests automatically decodes the gzip transfer-encoding so we don't need to worry about that. In order to get the image then we will use PIL, numpy, and matplotlib's pyplot."
     ]
    },
    {
     "cell_type": "code",
     "collapsed": false,
     "input": [
      "from matplotlib.pyplot import imshow\n",
      "import numpy as np\n",
      "from PIL import Image\n",
      "from StringIO import StringIO\n",
      "\n",
      "%matplotlib inline\n",
      "pil_im = Image.open(StringIO(r._content))\n",
      "pil_im\n",
      "#imshow(np.asarray(pil_im))"
     ],
     "language": "python",
     "metadata": {},
     "outputs": [
      {
       "metadata": {},
       "output_type": "pyout",
       "prompt_number": 19,
       "text": [
        "<PIL.JpegImagePlugin.JpegImageFile image mode=RGB size=969x489 at 0x2FB6560>"
       ]
      }
     ],
     "prompt_number": 19
    },
    {
     "cell_type": "markdown",
     "metadata": {},
     "source": [
      "Success!"
     ]
    },
    {
     "cell_type": "markdown",
     "metadata": {},
     "source": [
      "#Response Status Codes\n",
      "\n",
      "We can check the response status code:"
     ]
    },
    {
     "cell_type": "code",
     "collapsed": false,
     "input": [
      "r.status_code"
     ],
     "language": "python",
     "metadata": {},
     "outputs": [
      {
       "metadata": {},
       "output_type": "pyout",
       "prompt_number": 12,
       "text": [
        "200"
       ]
      }
     ],
     "prompt_number": 12
    },
    {
     "cell_type": "markdown",
     "metadata": {},
     "source": [
      "Requests also comes with a built-in status code lookup object for easy reference:\n"
     ]
    },
    {
     "cell_type": "code",
     "collapsed": false,
     "input": [
      "r.status_code == requests.codes.ok"
     ],
     "language": "python",
     "metadata": {},
     "outputs": [
      {
       "metadata": {},
       "output_type": "pyout",
       "prompt_number": 13,
       "text": [
        "True"
       ]
      }
     ],
     "prompt_number": 13
    },
    {
     "cell_type": "markdown",
     "metadata": {},
     "source": [
      "If we made a bad request (a 4XX client error or 5XX server error response), we can raise it with **Response.raise_for_status():**"
     ]
    },
    {
     "cell_type": "code",
     "collapsed": false,
     "input": [
      "bad_r = requests.get('http://api.brain-map.org/api/v2/atlas_image_download/-1')"
     ],
     "language": "python",
     "metadata": {},
     "outputs": [],
     "prompt_number": 14
    },
    {
     "cell_type": "code",
     "collapsed": false,
     "input": [
      "bad_r.status_code\n"
     ],
     "language": "python",
     "metadata": {},
     "outputs": [
      {
       "metadata": {},
       "output_type": "pyout",
       "prompt_number": 15,
       "text": [
        "404"
       ]
      }
     ],
     "prompt_number": 15
    },
    {
     "cell_type": "code",
     "collapsed": false,
     "input": [
      "bad_r.raise_for_status()"
     ],
     "language": "python",
     "metadata": {},
     "outputs": [
      {
       "ename": "HTTPError",
       "evalue": "404 Client Error: Not Found",
       "output_type": "pyerr",
       "traceback": [
        "\u001b[1;31m---------------------------------------------------------------------------\u001b[0m\n\u001b[1;31mHTTPError\u001b[0m                                 Traceback (most recent call last)",
        "\u001b[1;32m<ipython-input-16-cdf6910f7d4c>\u001b[0m in \u001b[0;36m<module>\u001b[1;34m()\u001b[0m\n\u001b[1;32m----> 1\u001b[1;33m \u001b[0mbad_r\u001b[0m\u001b[1;33m.\u001b[0m\u001b[0mraise_for_status\u001b[0m\u001b[1;33m(\u001b[0m\u001b[1;33m)\u001b[0m\u001b[1;33m\u001b[0m\u001b[0m\n\u001b[0m",
        "\u001b[1;32m/usr/local/lib/python2.7/dist-packages/requests/models.pyc\u001b[0m in \u001b[0;36mraise_for_status\u001b[1;34m(self)\u001b[0m\n\u001b[0;32m    793\u001b[0m \u001b[1;33m\u001b[0m\u001b[0m\n\u001b[0;32m    794\u001b[0m         \u001b[1;32mif\u001b[0m \u001b[0mhttp_error_msg\u001b[0m\u001b[1;33m:\u001b[0m\u001b[1;33m\u001b[0m\u001b[0m\n\u001b[1;32m--> 795\u001b[1;33m             \u001b[1;32mraise\u001b[0m \u001b[0mHTTPError\u001b[0m\u001b[1;33m(\u001b[0m\u001b[0mhttp_error_msg\u001b[0m\u001b[1;33m,\u001b[0m \u001b[0mresponse\u001b[0m\u001b[1;33m=\u001b[0m\u001b[0mself\u001b[0m\u001b[1;33m)\u001b[0m\u001b[1;33m\u001b[0m\u001b[0m\n\u001b[0m\u001b[0;32m    796\u001b[0m \u001b[1;33m\u001b[0m\u001b[0m\n\u001b[0;32m    797\u001b[0m     \u001b[1;32mdef\u001b[0m \u001b[0mclose\u001b[0m\u001b[1;33m(\u001b[0m\u001b[0mself\u001b[0m\u001b[1;33m)\u001b[0m\u001b[1;33m:\u001b[0m\u001b[1;33m\u001b[0m\u001b[0m\n",
        "\u001b[1;31mHTTPError\u001b[0m: 404 Client Error: Not Found"
       ]
      }
     ],
     "prompt_number": 16
    },
    {
     "cell_type": "markdown",
     "metadata": {},
     "source": [
      "But, since our status_code for r was 200, when we call raise_for_status() we get:"
     ]
    },
    {
     "cell_type": "code",
     "collapsed": false,
     "input": [
      "r.raise_for_status()"
     ],
     "language": "python",
     "metadata": {},
     "outputs": []
    },
    {
     "cell_type": "markdown",
     "metadata": {},
     "source": [
      "As expected we get no output. "
     ]
    },
    {
     "cell_type": "markdown",
     "metadata": {},
     "source": [
      "#Response Headers\n",
      "\n",
      "We can view the server\u2019s response headers using a Python dictionary:"
     ]
    },
    {
     "cell_type": "code",
     "collapsed": false,
     "input": [
      "r.headers\n"
     ],
     "language": "python",
     "metadata": {},
     "outputs": []
    },
    {
     "cell_type": "markdown",
     "metadata": {},
     "source": [
      "The dictionary is special, though: it\u2019s made just for HTTP headers. According to RFC 7230, HTTP Header names are case-insensitive.\n",
      "\n",
      "So, we can access the headers using any capitalization we want:"
     ]
    },
    {
     "cell_type": "code",
     "collapsed": false,
     "input": [
      "r.headers['Content-Type']"
     ],
     "language": "python",
     "metadata": {},
     "outputs": []
    },
    {
     "cell_type": "code",
     "collapsed": false,
     "input": [
      "r.headers['content-type']"
     ],
     "language": "python",
     "metadata": {},
     "outputs": []
    },
    {
     "cell_type": "markdown",
     "metadata": {},
     "source": [
      "#Errors and Exceptions\n",
      "\n",
      "In the event of a network problem (e.g. DNS failure, refused connection, etc), Requests will raise a ConnectionError exception.\n",
      "\n",
      "In the rare event of an invalid HTTP response, Requests will raise an **HTTPError** exception.\n",
      "\n",
      "If a request times out, a **Timeout** exception is raised.\n",
      "\n",
      "If a request exceeds the configured number of maximum redirections, a **TooManyRedirects** exception is raised.\n",
      "\n",
      "All exceptions that Requests explicitly raises inherit from **requests.exceptions.RequestException**."
     ]
    }
   ],
   "metadata": {}
  }
 ]
}