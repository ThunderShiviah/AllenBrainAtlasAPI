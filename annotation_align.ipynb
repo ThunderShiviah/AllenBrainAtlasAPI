{
 "metadata": {
  "name": "",
  "signature": "sha256:5365d562e19f79a1c32e3da54b803a289bd085ed78c51340c7883573671538fc"
 },
 "nbformat": 3,
 "nbformat_minor": 0,
 "worksheets": [
  {
   "cells": [
    {
     "cell_type": "markdown",
     "metadata": {},
     "source": [
      " # Goal\n",
      " Align the example Allen SVG annotation to the example lab image.\n",
      " \n",
      " ## Discussion\n",
      " In this case, I'm trying to keep the lab image relatively unaltered and find a mapping that takes the annotation image and geometrically transforms it to something that aligns with our lab image. When I say 'align' I'm implicitly hinting at a metric. I don't currently have a metric and for this problem we probably want to be able to interchange metrics. For simplicity, my initial metric will be whether or not the alignment passes (my) visual inspection. Once I have that I can start looking at more rigorous metrics and will at least have some nice test data to optimize to. "
     ]
    },
    {
     "cell_type": "code",
     "collapsed": false,
     "input": [],
     "language": "python",
     "metadata": {},
     "outputs": []
    }
   ],
   "metadata": {}
  }
 ]
}